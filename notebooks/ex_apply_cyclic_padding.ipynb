{
 "cells": [
  {
   "cell_type": "code",
   "execution_count": null,
   "id": "f4b8f873-0b2d-4402-9eb2-74c1f98be05c",
   "metadata": {},
   "outputs": [],
   "source": [
    "import paleoscripts as ps\n",
    "import xarray as xr\n",
    "import numpy as np"
   ]
  },
  {
   "cell_type": "code",
   "execution_count": null,
   "id": "39f9943b-525c-46a4-9a3a-d54f94241bec",
   "metadata": {},
   "outputs": [],
   "source": [
    "file = \"/home/alhafisu/nobackup/hos03/5001-5100/stsc_hos03.nc.gz\"\n",
    "ds = xr.open_dataset(file)\n",
    "tscmean1 = ds.tsc.mean(['year','month'], keep_attrs=True)\n",
    "tscmean1"
   ]
  },
  {
   "cell_type": "code",
   "execution_count": null,
   "id": "d02f7822-ffd5-423b-8062-eed97ecedd56",
   "metadata": {},
   "outputs": [],
   "source": [
    "da = ps.apply_cyclic_padding(tscmean1)"
   ]
  },
  {
   "cell_type": "code",
   "execution_count": null,
   "id": "a2ea249e-cf99-4aeb-804f-5109e993d1e1",
   "metadata": {},
   "outputs": [],
   "source": [
    "import matplotlib.pyplot as plt\n",
    "ps.create_contourf_plot(da, xlim=(-80, 200), ylim=(-40, 50), levels=np.linspace(270, 320, 101))\n",
    "plt.show()"
   ]
  },
  {
   "cell_type": "code",
   "execution_count": null,
   "id": "5bcaa686-ce79-412c-9c91-f784a932071a",
   "metadata": {},
   "outputs": [],
   "source": [
    "xlim = (130, 180)\n",
    "ylim = (-30, 20)\n",
    "xy = ps.find_points_where_field_is_max(tscmean1, xlim=xlim, ylim=ylim)\n",
    "xy"
   ]
  },
  {
   "cell_type": "code",
   "execution_count": null,
   "id": "cf50281a-a7bd-496a-94d2-eded30c933fb",
   "metadata": {},
   "outputs": [],
   "source": [
    "ps.create_contourf_plot(tscmean1, xlim=xlim, ylim=ylim, levels=np.linspace(310, 320, 101))\n",
    "plt.show()"
   ]
  },
  {
   "cell_type": "code",
   "execution_count": null,
   "id": "e5a1059d-9412-4be6-ab43-0a227abf8c83",
   "metadata": {},
   "outputs": [],
   "source": []
  }
 ],
 "metadata": {
  "kernelspec": {
   "display_name": "PyGeo Kernel",
   "language": "python",
   "name": "pygeo-kernel"
  },
  "language_info": {
   "codemirror_mode": {
    "name": "ipython",
    "version": 3
   },
   "file_extension": ".py",
   "mimetype": "text/x-python",
   "name": "python",
   "nbconvert_exporter": "python",
   "pygments_lexer": "ipython3",
   "version": "3.8.12"
  }
 },
 "nbformat": 4,
 "nbformat_minor": 5
}
