{
 "cells": [
  {
   "cell_type": "code",
   "execution_count": null,
   "id": "4d18ba5c-fe71-4361-a078-b37765ea005e",
   "metadata": {},
   "outputs": [],
   "source": [
    "import cartopy.crs as ccrs\n",
    "import cartopy.feature as cfeature\n",
    "from cartopy.mpl.gridliner import LongitudeFormatter, LatitudeFormatter\n",
    "import matplotlib.pyplot as plt\n",
    "import numpy as np\n",
    "import xarray as xr\n",
    "import cmaps\n",
    "\n",
    "#import geocat.datafiles as gdf\n",
    "import geocat.viz as gv\n",
    "import paleoscripts as ps"
   ]
  },
  {
   "cell_type": "code",
   "execution_count": null,
   "id": "619f49aa-0ff5-4145-90df-bb5e005eefa0",
   "metadata": {},
   "outputs": [],
   "source": [
    "files = []\n",
    "for case in ['3601-3700', '3701-3800', '3801-3900', '3901-4000']:\n",
    "    files.append('/home/alhafisu/nobackup/test1/' + case + '/srnd_test1.nc.gz')\n",
    "ds = xr.open_mfdataset(files)"
   ]
  },
  {
   "cell_type": "code",
   "execution_count": null,
   "id": "ec32b7b6-eaa0-40d6-ad4b-a95a958bc5f4",
   "metadata": {},
   "outputs": [],
   "source": [
    "# regrid to a higher res mesh\n",
    "rnd_tropical = ds.rnd.interp(latitude=np.linspace(0, 30, 21),\n",
    "                             longitude=np.linspace(140, 155, 16), method='cubic')"
   ]
  },
  {
   "cell_type": "code",
   "execution_count": null,
   "id": "f2a88f5a-4df3-4889-bc04-6cd3d2d67c4d",
   "metadata": {},
   "outputs": [],
   "source": [
    "rnd_tropical"
   ]
  },
  {
   "cell_type": "code",
   "execution_count": null,
   "id": "01525f24-077f-4b6b-b026-d7140bd4c22d",
   "metadata": {},
   "outputs": [],
   "source": [
    "rnd_djf_max = ps.extract_season(rnd_tropical, 'djf').max(dim='month')"
   ]
  },
  {
   "cell_type": "code",
   "execution_count": null,
   "id": "f4b748ea-6b0f-4051-80bf-0cb30b29a1bb",
   "metadata": {},
   "outputs": [],
   "source": [
    "rnd_djf_max"
   ]
  },
  {
   "cell_type": "code",
   "execution_count": null,
   "id": "11f48911-73f9-470a-a72c-4d11772f39e8",
   "metadata": {},
   "outputs": [],
   "source": [
    "# for each longitude, find the latitude that has the highest amount of rain\n",
    "nyear = len(rnd_djf_max.year)\n",
    "nlon = len(rnd_djf_max.longitude)\n",
    "xs = np.empty((nyear, nlon), np.float32)\n",
    "ys = np.empty((nyear, nlon), np.float32)\n",
    "years = [str(int(y.values)) for y in rnd_djf_max.year]\n",
    "for i in range(nyear):\n",
    "    points = ps.find_points_where_field_is_max(rnd_djf_max[i, ...])\n",
    "    xs[i, :] = [xy[0] for xy in points]\n",
    "    ys[i, :] = [xy[1] for xy in points]"
   ]
  },
  {
   "cell_type": "code",
   "execution_count": null,
   "id": "3df380a7-9688-43cf-bd78-ab3836097677",
   "metadata": {},
   "outputs": [],
   "source": [
    "plt.plot(xs, ys)"
   ]
  }
 ],
 "metadata": {
  "kernelspec": {
   "display_name": "PyGeo Kernel",
   "language": "python",
   "name": "pygeo-kernel"
  },
  "language_info": {
   "codemirror_mode": {
    "name": "ipython",
    "version": 3
   },
   "file_extension": ".py",
   "mimetype": "text/x-python",
   "name": "python",
   "nbconvert_exporter": "python",
   "pygments_lexer": "ipython3",
   "version": "3.8.12"
  }
 },
 "nbformat": 4,
 "nbformat_minor": 5
}
