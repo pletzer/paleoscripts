{
 "cells": [
  {
   "cell_type": "code",
   "execution_count": null,
   "id": "809fd111-dc40-4dae-9e60-517360754473",
   "metadata": {
    "tags": []
   },
   "outputs": [],
   "source": [
    "import paleoscripts as ps"
   ]
  },
  {
   "cell_type": "code",
   "execution_count": null,
   "id": "2885903e-5dae-4394-b50c-8581d7efbd54",
   "metadata": {
    "tags": []
   },
   "outputs": [],
   "source": [
    "delta_u, delta_v = ps.wind_anomaly(base_dir='/home/alhafisu/project/experiments',\n",
    "                 control='1hosv',\n",
    "                 experiment='hosv1',\n",
    "                 nyears_avg=25, start_year=5001, spinup_years=25, \n",
    "                 season='djf')"
   ]
  },
  {
   "cell_type": "code",
   "execution_count": null,
   "id": "2019d807-0a57-42f7-8101-c49afc9cc7a8",
   "metadata": {
    "tags": []
   },
   "outputs": [],
   "source": [
    "import matplotlib.pyplot as plt\n",
    "plt.quiver(delta_u, delta_v)"
   ]
  },
  {
   "cell_type": "code",
   "execution_count": null,
   "id": "90c4f3fa-effb-45f1-8308-00a0fe8afa6f",
   "metadata": {},
   "outputs": [],
   "source": []
  }
 ],
 "metadata": {
  "kernelspec": {
   "display_name": "PyGeo Kernel",
   "language": "python",
   "name": "pygeo-kernel"
  },
  "language_info": {
   "codemirror_mode": {
    "name": "ipython",
    "version": 3
   },
   "file_extension": ".py",
   "mimetype": "text/x-python",
   "name": "python",
   "nbconvert_exporter": "python",
   "pygments_lexer": "ipython3",
   "version": "3.8.12"
  }
 },
 "nbformat": 4,
 "nbformat_minor": 5
}
